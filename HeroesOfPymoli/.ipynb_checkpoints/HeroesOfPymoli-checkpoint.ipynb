{
 "cells": [
  {
   "cell_type": "code",
   "execution_count": 73,
   "metadata": {
    "scrolled": true
   },
   "outputs": [],
   "source": [
    "#import dependencies\n",
    "import os\n",
    "import csv\n",
    "import pandas as pd\n",
    "import numpy as np"
   ]
  },
  {
   "cell_type": "code",
   "execution_count": 74,
   "metadata": {
    "scrolled": true
   },
   "outputs": [],
   "source": [
    "#load csv file and create a pandas dataframe from it's data.\n",
    "PurchaseData_file = \"Resources/purchase_data.csv\"\n",
    "PurchaseData_df = pd.read_csv(PurchaseData_file)\n",
    "# PurchaseData_df.head()"
   ]
  },
  {
   "cell_type": "code",
   "execution_count": 75,
   "metadata": {
    "scrolled": true
   },
   "outputs": [
    {
     "data": {
      "text/html": [
       "<div>\n",
       "<style scoped>\n",
       "    .dataframe tbody tr th:only-of-type {\n",
       "        vertical-align: middle;\n",
       "    }\n",
       "\n",
       "    .dataframe tbody tr th {\n",
       "        vertical-align: top;\n",
       "    }\n",
       "\n",
       "    .dataframe thead th {\n",
       "        text-align: right;\n",
       "    }\n",
       "</style>\n",
       "<table border=\"1\" class=\"dataframe\">\n",
       "  <thead>\n",
       "    <tr style=\"text-align: right;\">\n",
       "      <th></th>\n",
       "      <th>Total Players</th>\n",
       "    </tr>\n",
       "  </thead>\n",
       "  <tbody>\n",
       "    <tr>\n",
       "      <td>0</td>\n",
       "      <td>576</td>\n",
       "    </tr>\n",
       "  </tbody>\n",
       "</table>\n",
       "</div>"
      ],
      "text/plain": [
       "   Total Players\n",
       "0            576"
      ]
     },
     "execution_count": 75,
     "metadata": {},
     "output_type": "execute_result"
    }
   ],
   "source": [
    "#Display total player count\n",
    "\n",
    "#isolate Screen Name in to a DataFile\n",
    "ScreenName_df = PurchaseData_df[[\"SN\"]]\n",
    "# ScreenName_df\n",
    "\n",
    "\n",
    "#calculate amount of unique players by using x = len(DataFrame[\"column_name\"])\n",
    "UniquePlayers = len(ScreenName_df[\"SN\"].unique())\n",
    "#print(UniquePlayers)\n",
    "\n",
    "#create a data frame with the amount of unique players listed in a column called \"Total Players\"\n",
    "Data_Table = pd.DataFrame({\"Total Players\": [UniquePlayers]})\n",
    "Data_Table"
   ]
  },
  {
   "cell_type": "code",
   "execution_count": 76,
   "metadata": {
    "scrolled": true
   },
   "outputs": [
    {
     "data": {
      "text/html": [
       "<div>\n",
       "<style scoped>\n",
       "    .dataframe tbody tr th:only-of-type {\n",
       "        vertical-align: middle;\n",
       "    }\n",
       "\n",
       "    .dataframe tbody tr th {\n",
       "        vertical-align: top;\n",
       "    }\n",
       "\n",
       "    .dataframe thead th {\n",
       "        text-align: right;\n",
       "    }\n",
       "</style>\n",
       "<table border=\"1\" class=\"dataframe\">\n",
       "  <thead>\n",
       "    <tr style=\"text-align: right;\">\n",
       "      <th></th>\n",
       "      <th>Number of Unique Items</th>\n",
       "      <th>Average Price</th>\n",
       "      <th>Number of Purchases</th>\n",
       "      <th>Total Revenue</th>\n",
       "    </tr>\n",
       "  </thead>\n",
       "  <tbody>\n",
       "    <tr>\n",
       "      <td>0</td>\n",
       "      <td>179</td>\n",
       "      <td>$3.05</td>\n",
       "      <td>780</td>\n",
       "      <td>$2,379.77</td>\n",
       "    </tr>\n",
       "  </tbody>\n",
       "</table>\n",
       "</div>"
      ],
      "text/plain": [
       "   Number of Unique Items Average Price  Number of Purchases Total Revenue\n",
       "0                     179         $3.05                  780     $2,379.77"
      ]
     },
     "execution_count": 76,
     "metadata": {},
     "output_type": "execute_result"
    }
   ],
   "source": [
    "# Number of Unique Items\n",
    "UniqueItems = len(PurchaseData_df[\"Item Name\"].unique())\n",
    "# print(\"Unique Items : \" + str(UniqueItems))\n",
    "\n",
    "# Average Purchase Price\n",
    "AveragePurchasePrice = TotalRevenue / AmountOfPurchases\n",
    "# print(\"Average Purchase Price : $\" + str(AveragePurchasePrice))\n",
    "\n",
    "# Total Number of Purchases\n",
    "AmountOfPurchases = len(PurchaseData_df[\"Purchase ID\"])\n",
    "# print(\"AmountOfPurchases : \" + str(AmountOfPurchases))\n",
    "\n",
    "# Total Revenue\n",
    "TotalRevenue = PurchaseData_df[\"Price\"].sum()\n",
    "# print(\"Total Revenue : $\" + str(TotalRevenue))\n",
    "\n",
    "#create Financials Data Frame\n",
    "Financials_df = pd.DataFrame({\n",
    "    \"Number of Unique Items\": [UniqueItems],\n",
    "    \"Average Price\": [AveragePurchasePrice],\n",
    "    \"Number of Purchases\": [AmountOfPurchases],\n",
    "    \"Total Revenue\": [TotalRevenue]\n",
    "    })\n",
    "\n",
    "#format Average Price and Total Revenue columns\n",
    "Financials_df[\"Average Price\"] = Financials_df[\"Average Price\"].map(\"${:.2f}\".format)\n",
    "Financials_df[\"Total Revenue\"] = Financials_df[\"Total Revenue\"].map(\"${:,.2f}\".format)\n",
    "\n",
    "#display the Financials summary\n",
    "Financials_df"
   ]
  },
  {
   "cell_type": "code",
   "execution_count": null,
   "metadata": {},
   "outputs": [],
   "source": []
  }
 ],
 "metadata": {
  "kernelspec": {
   "display_name": "Python 3",
   "language": "python",
   "name": "python3"
  },
  "language_info": {
   "codemirror_mode": {
    "name": "ipython",
    "version": 3
   },
   "file_extension": ".py",
   "mimetype": "text/x-python",
   "name": "python",
   "nbconvert_exporter": "python",
   "pygments_lexer": "ipython3",
   "version": "3.7.4"
  }
 },
 "nbformat": 4,
 "nbformat_minor": 2
}
