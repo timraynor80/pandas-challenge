{
 "cells": [
  {
   "cell_type": "code",
   "execution_count": 1,
   "metadata": {
    "scrolled": true
   },
   "outputs": [],
   "source": [
    "#import dependencies\n",
    "import os\n",
    "import csv\n",
    "import pandas as pd\n",
    "import numpy as np"
   ]
  },
  {
   "cell_type": "code",
   "execution_count": 2,
   "metadata": {
    "scrolled": true
   },
   "outputs": [],
   "source": [
    "#load csv file and create a pandas dataframe from it's data.\n",
    "PurchaseData_file = \"Resources/purchase_data.csv\"\n",
    "PurchaseData_df = pd.read_csv(PurchaseData_file)\n",
    "# PurchaseData_df.head()"
   ]
  },
  {
   "cell_type": "code",
   "execution_count": 3,
   "metadata": {
    "scrolled": true
   },
   "outputs": [],
   "source": [
    "#Display total player count\n",
    "\n",
    "#calculate amount of unique players by using x = len(DataFrame[\"column_name\"])\n",
    "UniquePlayersCount = len(PurchaseData_df[\"SN\"].unique())\n",
    "#print(UniquePlayersCount)\n",
    "\n",
    "# #create a data frame with the amount of unique players listed in a column called \"Total Players\"\n",
    "# Data_Table = pd.DataFrame({\"Total Players\": [UniquePlayersCount]})\n",
    "# # Data_Table"
   ]
  },
  {
   "cell_type": "code",
   "execution_count": 4,
   "metadata": {
    "scrolled": true
   },
   "outputs": [
    {
     "data": {
      "text/html": [
       "<div>\n",
       "<style scoped>\n",
       "    .dataframe tbody tr th:only-of-type {\n",
       "        vertical-align: middle;\n",
       "    }\n",
       "\n",
       "    .dataframe tbody tr th {\n",
       "        vertical-align: top;\n",
       "    }\n",
       "\n",
       "    .dataframe thead th {\n",
       "        text-align: right;\n",
       "    }\n",
       "</style>\n",
       "<table border=\"1\" class=\"dataframe\">\n",
       "  <thead>\n",
       "    <tr style=\"text-align: right;\">\n",
       "      <th></th>\n",
       "      <th>Number of Unique Items</th>\n",
       "      <th>Average Price</th>\n",
       "      <th>Number of Purchases</th>\n",
       "      <th>Total Revenue</th>\n",
       "    </tr>\n",
       "  </thead>\n",
       "  <tbody>\n",
       "    <tr>\n",
       "      <td>0</td>\n",
       "      <td>179</td>\n",
       "      <td>$3.05</td>\n",
       "      <td>780</td>\n",
       "      <td>$2,379.77</td>\n",
       "    </tr>\n",
       "  </tbody>\n",
       "</table>\n",
       "</div>"
      ],
      "text/plain": [
       "   Number of Unique Items Average Price  Number of Purchases Total Revenue\n",
       "0                     179         $3.05                  780     $2,379.77"
      ]
     },
     "execution_count": 4,
     "metadata": {},
     "output_type": "execute_result"
    }
   ],
   "source": [
    "# Number of Unique Items\n",
    "UniqueItems = len(PurchaseData_df[\"Item Name\"].unique())\n",
    "# print(\"Unique Items : \" + str(UniqueItems))\n",
    "\n",
    "\n",
    "# Total Number of Purchases\n",
    "AmountOfPurchases = len(PurchaseData_df[\"Purchase ID\"])\n",
    "# print(\"AmountOfPurchases : \" + str(AmountOfPurchases))\n",
    "\n",
    "# Total Revenue\n",
    "TotalRevenue = PurchaseData_df[\"Price\"].sum()\n",
    "# print(\"Total Revenue : $\" + str(TotalRevenue))\n",
    "\n",
    "# Average Purchase Price\n",
    "AveragePurchasePrice = TotalRevenue / AmountOfPurchases\n",
    "# print(\"Average Purchase Price : $\" + str(AveragePurchasePrice))\n",
    "\n",
    "#create Financials Data Frame\n",
    "Financials_df = pd.DataFrame({\n",
    "    \"Number of Unique Items\": [UniqueItems],\n",
    "    \"Average Price\": [AveragePurchasePrice],\n",
    "    \"Number of Purchases\": [AmountOfPurchases],\n",
    "    \"Total Revenue\": [TotalRevenue]\n",
    "    })\n",
    "\n",
    "#format Average Price and Total Revenue columns\n",
    "Financials_df[\"Average Price\"] = Financials_df[\"Average Price\"].map(\"${:.2f}\".format)\n",
    "Financials_df[\"Total Revenue\"] = Financials_df[\"Total Revenue\"].map(\"${:,.2f}\".format)\n",
    "\n",
    "#display the Financials summary\n",
    "Financials_df"
   ]
  },
  {
   "cell_type": "code",
   "execution_count": 6,
   "metadata": {
    "scrolled": false
   },
   "outputs": [
    {
     "data": {
      "text/html": [
       "<div>\n",
       "<style scoped>\n",
       "    .dataframe tbody tr th:only-of-type {\n",
       "        vertical-align: middle;\n",
       "    }\n",
       "\n",
       "    .dataframe tbody tr th {\n",
       "        vertical-align: top;\n",
       "    }\n",
       "\n",
       "    .dataframe thead th {\n",
       "        text-align: right;\n",
       "    }\n",
       "</style>\n",
       "<table border=\"1\" class=\"dataframe\">\n",
       "  <thead>\n",
       "    <tr style=\"text-align: right;\">\n",
       "      <th></th>\n",
       "      <th>Total Count</th>\n",
       "      <th>Percentage of Players</th>\n",
       "    </tr>\n",
       "  </thead>\n",
       "  <tbody>\n",
       "    <tr>\n",
       "      <td>Male</td>\n",
       "      <td>484</td>\n",
       "      <td>84.03%</td>\n",
       "    </tr>\n",
       "    <tr>\n",
       "      <td>Female</td>\n",
       "      <td>81</td>\n",
       "      <td>14.06%</td>\n",
       "    </tr>\n",
       "    <tr>\n",
       "      <td>Other / Non-Disclosed</td>\n",
       "      <td>11</td>\n",
       "      <td>1.91%</td>\n",
       "    </tr>\n",
       "  </tbody>\n",
       "</table>\n",
       "</div>"
      ],
      "text/plain": [
       "                       Total Count Percentage of Players\n",
       "Male                           484                84.03%\n",
       "Female                          81                14.06%\n",
       "Other / Non-Disclosed           11                 1.91%"
      ]
     },
     "execution_count": 6,
     "metadata": {},
     "output_type": "execute_result"
    }
   ],
   "source": [
    "#calculate amount of unique players by using x = len(DataFrame[\"column_name\"])\n",
    "UniquePlayersCount = len(PurchaseData_df[\"SN\"].unique())\n",
    "UniquePlayers = PurchaseData_df[\"SN\"].unique()\n",
    "\n",
    "#isolate lists of players by gender\n",
    "MalePlayers = PurchaseData_df.loc[(PurchaseData_df[\"Gender\"] == \"Male\"), :]\n",
    "FemalePlayers = PurchaseData_df.loc[(PurchaseData_df[\"Gender\"] == \"Female\"), :]\n",
    "OtherPlayers = PurchaseData_df.loc[(PurchaseData_df[\"Gender\"] == \"Other / Non-Disclosed\"), :]\n",
    "\n",
    "#isolate lists of unique players by gender\n",
    "UniqueMalePlayers = MalePlayers[\"SN\"].unique()\n",
    "UniqueFemalePlayers = FemalePlayers[\"SN\"].unique()\n",
    "UniqueOtherPlayers = OtherPlayers[\"SN\"].unique()\n",
    "\n",
    "  \n",
    "gender_data = [[len(UniqueMalePlayers), ((int(len(UniqueMalePlayers)) / int(UniquePlayersCount)) * 100)],\n",
    "        [len(UniqueFemalePlayers), ((int(len(UniqueFemalePlayers)) / int(UniquePlayersCount)) * 100)], \n",
    "        [len(UniqueOtherPlayers), ((int(len(UniqueOtherPlayers)) / int(UniquePlayersCount)) * 100)]]\n",
    "\n",
    "Gender_df = pd.DataFrame(gender_data, columns = ['Total Count', 'Percentage of Players'], index = ['Male', 'Female', 'Other / Non-Disclosed'])\n",
    "\n",
    "Gender_df[\"Percentage of Players\"] = Gender_df[\"Percentage of Players\"].map(\"{:.2f}%\".format)\n",
    "\n",
    "Gender_df"
   ]
  },
  {
   "cell_type": "code",
   "execution_count": null,
   "metadata": {
    "scrolled": false
   },
   "outputs": [],
   "source": []
  },
  {
   "cell_type": "code",
   "execution_count": null,
   "metadata": {
    "scrolled": false
   },
   "outputs": [],
   "source": []
  },
  {
   "cell_type": "raw",
   "metadata": {
    "scrolled": false
   },
   "source": []
  },
  {
   "cell_type": "code",
   "execution_count": null,
   "metadata": {
    "scrolled": false
   },
   "outputs": [],
   "source": []
  }
 ],
 "metadata": {
  "kernelspec": {
   "display_name": "Python 3",
   "language": "python",
   "name": "python3"
  },
  "language_info": {
   "codemirror_mode": {
    "name": "ipython",
    "version": 3
   },
   "file_extension": ".py",
   "mimetype": "text/x-python",
   "name": "python",
   "nbconvert_exporter": "python",
   "pygments_lexer": "ipython3",
   "version": "3.7.4"
  }
 },
 "nbformat": 4,
 "nbformat_minor": 2
}
