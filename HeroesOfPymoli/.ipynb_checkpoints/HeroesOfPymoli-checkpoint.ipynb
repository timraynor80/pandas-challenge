{
 "cells": [
  {
   "cell_type": "code",
   "execution_count": 1,
   "metadata": {
    "scrolled": true
   },
   "outputs": [],
   "source": [
    "#import dependencies\n",
    "import os\n",
    "import csv\n",
    "import pandas as pd\n",
    "import numpy as np"
   ]
  },
  {
   "cell_type": "code",
   "execution_count": 2,
   "metadata": {
    "scrolled": true
   },
   "outputs": [],
   "source": [
    "#load csv file and create a pandas dataframe from it's data.\n",
    "PurchaseData_file = \"Resources/purchase_data.csv\"\n",
    "PurchaseData_df = pd.read_csv(PurchaseData_file)\n",
    "# PurchaseData_df.head()"
   ]
  },
  {
   "cell_type": "code",
   "execution_count": 3,
   "metadata": {
    "scrolled": true
   },
   "outputs": [
    {
     "data": {
      "text/html": [
       "<div>\n",
       "<style scoped>\n",
       "    .dataframe tbody tr th:only-of-type {\n",
       "        vertical-align: middle;\n",
       "    }\n",
       "\n",
       "    .dataframe tbody tr th {\n",
       "        vertical-align: top;\n",
       "    }\n",
       "\n",
       "    .dataframe thead th {\n",
       "        text-align: right;\n",
       "    }\n",
       "</style>\n",
       "<table border=\"1\" class=\"dataframe\">\n",
       "  <thead>\n",
       "    <tr style=\"text-align: right;\">\n",
       "      <th></th>\n",
       "      <th>Total Players</th>\n",
       "    </tr>\n",
       "  </thead>\n",
       "  <tbody>\n",
       "    <tr>\n",
       "      <td>0</td>\n",
       "      <td>576</td>\n",
       "    </tr>\n",
       "  </tbody>\n",
       "</table>\n",
       "</div>"
      ],
      "text/plain": [
       "   Total Players\n",
       "0            576"
      ]
     },
     "execution_count": 3,
     "metadata": {},
     "output_type": "execute_result"
    }
   ],
   "source": [
    "#Display total player count\n",
    "\n",
    "#calculate amount of unique players by using x = len(DataFrame[\"column_name\"])\n",
    "UniquePlayersCount = len(PurchaseData_df[\"SN\"].unique())\n",
    "#print(UniquePlayersCount)\n",
    "\n",
    "# #create a data frame with the amount of unique players listed in a column called \"Total Players\"\n",
    "Data_Table = pd.DataFrame({\"Total Players\": [UniquePlayersCount]})\n",
    "Data_Table"
   ]
  },
  {
   "cell_type": "code",
   "execution_count": 4,
   "metadata": {
    "scrolled": true
   },
   "outputs": [
    {
     "data": {
      "text/html": [
       "<div>\n",
       "<style scoped>\n",
       "    .dataframe tbody tr th:only-of-type {\n",
       "        vertical-align: middle;\n",
       "    }\n",
       "\n",
       "    .dataframe tbody tr th {\n",
       "        vertical-align: top;\n",
       "    }\n",
       "\n",
       "    .dataframe thead th {\n",
       "        text-align: right;\n",
       "    }\n",
       "</style>\n",
       "<table border=\"1\" class=\"dataframe\">\n",
       "  <thead>\n",
       "    <tr style=\"text-align: right;\">\n",
       "      <th></th>\n",
       "      <th>Number of Unique Items</th>\n",
       "      <th>Average Price</th>\n",
       "      <th>Number of Purchases</th>\n",
       "      <th>Total Revenue</th>\n",
       "    </tr>\n",
       "  </thead>\n",
       "  <tbody>\n",
       "    <tr>\n",
       "      <td>0</td>\n",
       "      <td>179</td>\n",
       "      <td>$3.05</td>\n",
       "      <td>780</td>\n",
       "      <td>$2,379.77</td>\n",
       "    </tr>\n",
       "  </tbody>\n",
       "</table>\n",
       "</div>"
      ],
      "text/plain": [
       "   Number of Unique Items Average Price  Number of Purchases Total Revenue\n",
       "0                     179         $3.05                  780     $2,379.77"
      ]
     },
     "execution_count": 4,
     "metadata": {},
     "output_type": "execute_result"
    }
   ],
   "source": [
    "# Number of Unique Items\n",
    "UniqueItems = len(PurchaseData_df[\"Item Name\"].unique())\n",
    "\n",
    "# Total Number of Purchases\n",
    "AmountOfPurchases = len(PurchaseData_df[\"Purchase ID\"])\n",
    "\n",
    "# Total Revenue\n",
    "TotalRevenue = PurchaseData_df[\"Price\"].sum()\n",
    "\n",
    "# Average Purchase Price\n",
    "AveragePurchasePrice = TotalRevenue / AmountOfPurchases\n",
    "\n",
    "#create Financials Data Frame\n",
    "Financials_df = pd.DataFrame({\n",
    "    \"Number of Unique Items\": [UniqueItems],\n",
    "    \"Average Price\": [AveragePurchasePrice],\n",
    "    \"Number of Purchases\": [AmountOfPurchases],\n",
    "    \"Total Revenue\": [TotalRevenue]\n",
    "    })\n",
    "\n",
    "#format Average Price and Total Revenue columns\n",
    "Financials_df[\"Average Price\"] = Financials_df[\"Average Price\"].map(\"${:.2f}\".format)\n",
    "Financials_df[\"Total Revenue\"] = Financials_df[\"Total Revenue\"].map(\"${:,.2f}\".format)\n",
    "\n",
    "#display the Financials summary\n",
    "Financials_df"
   ]
  },
  {
   "cell_type": "code",
   "execution_count": 5,
   "metadata": {
    "scrolled": false
   },
   "outputs": [
    {
     "data": {
      "text/html": [
       "<div>\n",
       "<style scoped>\n",
       "    .dataframe tbody tr th:only-of-type {\n",
       "        vertical-align: middle;\n",
       "    }\n",
       "\n",
       "    .dataframe tbody tr th {\n",
       "        vertical-align: top;\n",
       "    }\n",
       "\n",
       "    .dataframe thead th {\n",
       "        text-align: right;\n",
       "    }\n",
       "</style>\n",
       "<table border=\"1\" class=\"dataframe\">\n",
       "  <thead>\n",
       "    <tr style=\"text-align: right;\">\n",
       "      <th></th>\n",
       "      <th>Total Count</th>\n",
       "      <th>Percentage of Players</th>\n",
       "    </tr>\n",
       "  </thead>\n",
       "  <tbody>\n",
       "    <tr>\n",
       "      <td>Male</td>\n",
       "      <td>484</td>\n",
       "      <td>84.03%</td>\n",
       "    </tr>\n",
       "    <tr>\n",
       "      <td>Female</td>\n",
       "      <td>81</td>\n",
       "      <td>14.06%</td>\n",
       "    </tr>\n",
       "    <tr>\n",
       "      <td>Other / Non-Disclosed</td>\n",
       "      <td>11</td>\n",
       "      <td>1.91%</td>\n",
       "    </tr>\n",
       "  </tbody>\n",
       "</table>\n",
       "</div>"
      ],
      "text/plain": [
       "                       Total Count Percentage of Players\n",
       "Male                           484                84.03%\n",
       "Female                          81                14.06%\n",
       "Other / Non-Disclosed           11                 1.91%"
      ]
     },
     "execution_count": 5,
     "metadata": {},
     "output_type": "execute_result"
    }
   ],
   "source": [
    "#calculate amount of unique players by using x = len(DataFrame[\"column_name\"])\n",
    "UniquePlayersCount = len(PurchaseData_df[\"SN\"].unique())\n",
    "\n",
    "#isolate lists of players by gender\n",
    "MalePlayers = PurchaseData_df.loc[(PurchaseData_df[\"Gender\"] == \"Male\"), :]\n",
    "FemalePlayers = PurchaseData_df.loc[(PurchaseData_df[\"Gender\"] == \"Female\"), :]\n",
    "OtherPlayers = PurchaseData_df.loc[(PurchaseData_df[\"Gender\"] == \"Other / Non-Disclosed\"), :]\n",
    "\n",
    "#isolate lists of unique players by gender\n",
    "UniqueMalePlayers = MalePlayers[\"SN\"].unique()\n",
    "UniqueFemalePlayers = FemalePlayers[\"SN\"].unique()\n",
    "UniqueOtherPlayers = OtherPlayers[\"SN\"].unique()\n",
    "\n",
    "#populate a dictionary of gender demographic data  \n",
    "gender_demographic_data = [[len(UniqueMalePlayers), ((int(len(UniqueMalePlayers)) / int(UniquePlayersCount)) * 100)],\n",
    "        [len(UniqueFemalePlayers), ((int(len(UniqueFemalePlayers)) / int(UniquePlayersCount)) * 100)], \n",
    "        [len(UniqueOtherPlayers), ((int(len(UniqueOtherPlayers)) / int(UniquePlayersCount)) * 100)]]\n",
    "\n",
    "#create a data frame using the gender demographic data dictionary \n",
    "GenderDemographics_df = pd.DataFrame(gender_demographic_data, columns = ['Total Count', 'Percentage of Players'], index = ['Male', 'Female', 'Other / Non-Disclosed'])\n",
    "\n",
    "#set percentage format\n",
    "GenderDemographics_df[\"Percentage of Players\"] = GenderDemographics_df[\"Percentage of Players\"].map(\"{:.2f}%\".format)\n",
    "\n",
    "#display the Gender demographic summary\n",
    "GenderDemographics_df"
   ]
  },
  {
   "cell_type": "code",
   "execution_count": 6,
   "metadata": {},
   "outputs": [
    {
     "data": {
      "text/html": [
       "<div>\n",
       "<style scoped>\n",
       "    .dataframe tbody tr th:only-of-type {\n",
       "        vertical-align: middle;\n",
       "    }\n",
       "\n",
       "    .dataframe tbody tr th {\n",
       "        vertical-align: top;\n",
       "    }\n",
       "\n",
       "    .dataframe thead th {\n",
       "        text-align: right;\n",
       "    }\n",
       "</style>\n",
       "<table border=\"1\" class=\"dataframe\">\n",
       "  <thead>\n",
       "    <tr style=\"text-align: right;\">\n",
       "      <th></th>\n",
       "      <th>Purchase Count</th>\n",
       "      <th>Average Purchase Price</th>\n",
       "      <th>Total Purchase Value</th>\n",
       "      <th>Average Total Purchase Per Person</th>\n",
       "    </tr>\n",
       "    <tr>\n",
       "      <th>Gender</th>\n",
       "      <th></th>\n",
       "      <th></th>\n",
       "      <th></th>\n",
       "      <th></th>\n",
       "    </tr>\n",
       "  </thead>\n",
       "  <tbody>\n",
       "    <tr>\n",
       "      <td>Female</td>\n",
       "      <td>113</td>\n",
       "      <td>$3.20</td>\n",
       "      <td>$361.94</td>\n",
       "      <td>$4.47</td>\n",
       "    </tr>\n",
       "    <tr>\n",
       "      <td>Male</td>\n",
       "      <td>652</td>\n",
       "      <td>$3.02</td>\n",
       "      <td>$1967.64</td>\n",
       "      <td>$4.07</td>\n",
       "    </tr>\n",
       "    <tr>\n",
       "      <td>Other / Non-Disclosed</td>\n",
       "      <td>15</td>\n",
       "      <td>$3.35</td>\n",
       "      <td>$50.19</td>\n",
       "      <td>$4.56</td>\n",
       "    </tr>\n",
       "  </tbody>\n",
       "</table>\n",
       "</div>"
      ],
      "text/plain": [
       "                       Purchase Count Average Purchase Price  \\\n",
       "Gender                                                         \n",
       "Female                            113                  $3.20   \n",
       "Male                              652                  $3.02   \n",
       "Other / Non-Disclosed              15                  $3.35   \n",
       "\n",
       "                      Total Purchase Value Average Total Purchase Per Person  \n",
       "Gender                                                                        \n",
       "Female                             $361.94                             $4.47  \n",
       "Male                              $1967.64                             $4.07  \n",
       "Other / Non-Disclosed               $50.19                             $4.56  "
      ]
     },
     "execution_count": 6,
     "metadata": {},
     "output_type": "execute_result"
    }
   ],
   "source": [
    "#Find sum of all purchases made by each gender category.\n",
    "Male_df = PurchaseData_df.loc[PurchaseData_df[\"Gender\"] == \"Male\", :]\n",
    "MaleSum = Male_df[\"Price\"].sum()\n",
    "Female_df = PurchaseData_df.loc[PurchaseData_df[\"Gender\"] == \"Female\", :]\n",
    "FemaleSum = Female_df[\"Price\"].sum()\n",
    "Other_df = PurchaseData_df.loc[PurchaseData_df[\"Gender\"] == \"Other / Non-Disclosed\", :]\n",
    "OtherSum = Other_df[\"Price\"].sum()\n",
    "\n",
    "#find the average purchase price of purchases made by each gender category.\n",
    "MaleAverage = MaleSum / len(MalePlayers)\n",
    "FemaleAverage = FemaleSum / len(FemalePlayers)\n",
    "OtherAverage = OtherSum / len(OtherPlayers)\n",
    "\n",
    "#find the average total purchase price per unique person of each gender category\n",
    "UniqueMaleAverage = MaleSum / len(UniqueMalePlayers)\n",
    "UniqueFemaleAverage = FemaleSum / len(UniqueFemalePlayers)\n",
    "UniqueOtherAverage = OtherSum / len(UniqueOtherPlayers)\n",
    "\n",
    "#create gender analysis data dictionary based on values above\n",
    "gender_analysis_data = [['Female', len(FemalePlayers), FemaleAverage, FemaleSum, UniqueFemaleAverage],\n",
    "                        ['Male', len(MalePlayers), MaleAverage, MaleSum, UniqueMaleAverage],\n",
    "                        ['Other / Non-Disclosed', len(OtherPlayers), OtherAverage, OtherSum, UniqueOtherAverage]]\n",
    "\n",
    "# create gender analysis data frame\n",
    "GenderAnalysis_df = pd.DataFrame(gender_analysis_data, columns = ['Gender', 'Purchase Count', \"Average Purchase Price\", 'Total Purchase Value', 'Average Total Purchase Per Person'])\n",
    "\n",
    "#format columns to correct number formats\n",
    "GenderAnalysis_df[\"Total Purchase Value\"] = GenderAnalysis_df[\"Total Purchase Value\"].map(\"${:.2f}\".format)\n",
    "GenderAnalysis_df[\"Average Purchase Price\"] = GenderAnalysis_df[\"Average Purchase Price\"].map(\"${:.2f}\".format)\n",
    "GenderAnalysis_df[\"Average Total Purchase Per Person\"] = GenderAnalysis_df[\"Average Total Purchase Per Person\"].map(\"${:.2f}\".format)\n",
    "\n",
    "#group by Gender\n",
    "grouped_GenderAnalysis_df = GenderAnalysis_df.set_index(\"Gender\")\n",
    "\n",
    "#display Purchasing Analysis (Gender)\n",
    "grouped_GenderAnalysis_df"
   ]
  },
  {
   "cell_type": "code",
   "execution_count": 77,
   "metadata": {},
   "outputs": [
    {
     "name": "stdout",
     "output_type": "stream",
     "text": [
      "13\n"
     ]
    }
   ],
   "source": [
    "#create bins and names for the bins\n",
    "bins = [-1, 9, 14, 19, 24, 29, 34, 39,  max(PurchaseData_df[\"Age\"])]\n",
    "groupnames = [\">10\", \"10-14\", \"15-19\", \"20-24\", \"25-29\", \"30-34\", \"35-39\", \"40+\"]\n",
    "\n",
    "#add the age ranges column to the PurchaseData data frame. \n",
    "PurchaseData_df[\"Age Ranges\"] = pd.cut(PurchaseData_df[\"Age\"], bins, labels=groupnames)\n",
    "\n",
    "#calculate and assign Under 10 data\n",
    "Under10Purchases_df = PurchaseData_df.loc[PurchaseData_df[\"Age Ranges\"] == \">10\", :]\n",
    "Under10PurchaseSum = Under10Purchases_df[\"Price\"].sum()\n",
    "Under10PurchaseCount = Under10Purchases_df[\"Purchase ID\"].count()\n",
    "\n",
    "#calculate and assign 10-14 data\n",
    "TenToFourteenPurchases_df = PurchaseData_df.loc[PurchaseData_df[\"Age Ranges\"] == \"10-14\", :]\n",
    "TenToFourteenPurchaseSum = TenToFourteenPurchases_df[\"Price\"].sum()\n",
    "TenToFourteenPurchaseCount = TenToFourteenPurchases_df[\"Price\"].count()\n",
    "\n",
    "#calculate and assign 15-19 data\n",
    "FifteenToNineteenPurchases_df = PurchaseData_df.loc[PurchaseData_df[\"Age Ranges\"] == \"15-19\", :]\n",
    "FifteenToNineteenPurchaseSum = FifteenToNineteenPurchases_df[\"Price\"].sum()\n",
    "FifteenToNineteenPurchaseCount = FifteenToNineteenPurchases_df[\"Price\"].count()\n",
    "\n",
    "#calculate and assign 20-24 data\n",
    "TwentyToTwentyFourPurchases_df = PurchaseData_df.loc[PurchaseData_df[\"Age Ranges\"] == \"20-24\", :]\n",
    "TwentyToTwentyFourPurchaseSum = TwentyToTwentyFourPurchases_df[\"Price\"].sum()\n",
    "TwentyToTwentyFourPurchaseCount = TwentyToTwentyFourPurchases_df[\"Price\"].count()\n",
    "\n",
    "#calculate and assign 25-29 data\n",
    "TwentyFiveToTwentyNinePurchases_df = PurchaseData_df.loc[PurchaseData_df[\"Age Ranges\"] == \"25-29\", :]\n",
    "TwentyFiveToTwentyNinePurchaseSum = TwentyFiveToTwentyNinePurchases_df[\"Price\"].sum()\n",
    "TwentyFiveToTwentyNinePurchaseCount = TwentyFiveToTwentyNinePurchases_df[\"Price\"].count()\n",
    "\n",
    "#calculate and assign 30-34 data\n",
    "ThirtyToThirtyFourPurchases_df = PurchaseData_df.loc[PurchaseData_df[\"Age Ranges\"] == \"30-34\", :]\n",
    "ThirtyToThirtyFourPurchaseSum = ThirtyToThirtyFourPurchases_df[\"Price\"].sum()\n",
    "ThirtyToThirtyFourPurchaseCount = ThirtyToThirtyFourPurchases_df[\"Price\"].count()\n",
    "\n",
    "#calculate and assign 34-39 data\n",
    "ThirtyFiveToThirtyNinePurchases_df = PurchaseData_df.loc[PurchaseData_df[\"Age Ranges\"] == \"35-39\", :]\n",
    "ThirtyFiveToThirtyNinePurchaseSum = ThirtyFiveToThirtyNinePurchases_df[\"Price\"].sum()\n",
    "ThirtyFiveToThirtyNinePurchaseCount = ThirtyFiveToThirtyNinePurchases_df[\"Price\"].count()\n",
    "\n",
    "#calculate and assign 40+ data\n",
    "FortyPlusPurchases_df = PurchaseData_df.loc[PurchaseData_df[\"Age Ranges\"] == \"40+\", :]\n",
    "FortyPlusPurchaseSum = FortyPlusPurchases_df[\"Price\"].sum()\n",
    "FortyPlusPurchaseCount = FortyPlusPurchases_df[\"Price\"].count()\n",
    "\n",
    "# FifteenToNineteenPurchases_df\n",
    "print(FortyPlusPurchaseCount)\n",
    "\n",
    "# Data = [[\">10\", Under10PurchaseCount, 0.00, Under10PurchaseSum, 0.00],\n",
    "#         [\"10-14\", TenToFourteenPurchaseCount, 0.00, TenToFourteenPurchaseSum, 0.00],\n",
    "#         [\"15-19\", FifteenToNineteenPurchaseCount, 0.00, FifteenToNineteenPurchaseSum, 0.00],\n",
    "#         [\"20-24\", TwentyToTwentyFourPurchaseCount, 0.00, TwentyToTwentyFourPurchaseSum, 0.00],\n",
    "#         [\"25-29\", TwentyFiveToTwentyNinePurchaseCount, 0.00, TwentyFiveToTwentyNinePurchaseSum, 0.00],\n",
    "#         [\"30-34\", ThirtyToThirtyFourPurchaseCount, 0.00, ThirtyToThirtyFourPurchaseSum, 0.00],\n",
    "#         [\"35-39\", ThirtyFiveToThirtyNinePurchaseCount, 0.00, ThirtyFiveToThirtyNinePurchaseSum, 0.00],\n",
    "#         [\"40+\", FortyPlusPurchaseCount, 0.00, FortyPlusPurchaseSum, 0.00]\n",
    "#        ]\n",
    "\n",
    "# # create gender analysis data frame\n",
    "# PurchasingAnalysis_df = pd.DataFrame(Data, columns = [\"Age Ranges\", 'Purchase Count', \"Average Purchase Price\", 'Total Purchase Value', 'Average Total Purchase Per Person'])\n",
    "# PurchasingAnalysis_df\n",
    "\n",
    "# #format columns to correct number formats\n",
    "# PurchasingAnalysis_df[\"Total Purchase Value\"] = PurchasingAnalysis_df[\"Total Purchase Value\"].map(\"${:.2f}\".format)\n",
    "# PurchasingAnalysis_df[\"Average Purchase Price\"] = PurchasingAnalysis_df[\"Average Purchase Price\"].map(\"${:.2f}\".format)\n",
    "# PurchasingAnalysis_df[\"Average Total Purchase Per Person\"] = PurchasingAnalysis_df[\"Average Total Purchase Per Person\"].map(\"${:.2f}\".format)\n",
    "\n",
    "# PurchasingAnalysis_df\n"
   ]
  },
  {
   "cell_type": "raw",
   "metadata": {
    "scrolled": false
   },
   "source": []
  },
  {
   "cell_type": "code",
   "execution_count": null,
   "metadata": {
    "scrolled": false
   },
   "outputs": [],
   "source": []
  },
  {
   "cell_type": "code",
   "execution_count": null,
   "metadata": {},
   "outputs": [],
   "source": []
  }
 ],
 "metadata": {
  "kernelspec": {
   "display_name": "Python 3",
   "language": "python",
   "name": "python3"
  },
  "language_info": {
   "codemirror_mode": {
    "name": "ipython",
    "version": 3
   },
   "file_extension": ".py",
   "mimetype": "text/x-python",
   "name": "python",
   "nbconvert_exporter": "python",
   "pygments_lexer": "ipython3",
   "version": "3.7.4"
  }
 },
 "nbformat": 4,
 "nbformat_minor": 2
}
